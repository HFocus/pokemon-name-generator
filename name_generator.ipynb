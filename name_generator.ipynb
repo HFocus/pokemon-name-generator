{
    "cells": [
        {
            "cell_type": "markdown",
            "metadata": {
                "id": "v8FZAmy-Yw1q"
            },
            "source": [
                "# Pokémon Name Generation with Keras\n",
                "\n",
                "Generate new unique Pokémon names with a LSTM using Andrej Karpathy's famous [Char-RNN](http://karpathy.github.io/2015/05/21/rnn-effectiveness/) which he used to generate poetry. There are more information in the blog, but the concept is fairly simple. We want the build a next-character-in-text predictor. We will do this by using a window of fixed length as our input and the next char as output and then train a LSTM to perform this task. Since the network won't understand raw characters we need to encode each character to a character vectors with one-hot encoding."
            ]
        },
        {
            "cell_type": "code",
            "execution_count": 1,
            "metadata": {
                "colab": {
                    "base_uri": "https://localhost:8080/"
                },
                "executionInfo": {
                    "elapsed": 17777,
                    "status": "ok",
                    "timestamp": 1664470016456,
                    "user": {
                        "displayName": "K B",
                        "userId": "08203440670727614263"
                    },
                    "user_tz": 360
                },
                "id": "SPuGvSXM7OHl",
                "outputId": "5c0ccf8d-faaf-46f7-ef82-dd3f17bb6f70"
            },
            "outputs": [
                {
                    "output_type": "stream",
                    "name": "stdout",
                    "text": [
                        "Mounted at /content/drive\n"
                    ]
                }
            ],
            "source": [
                "from google.colab import drive\n",
                "drive.mount('/content/drive', force_remount=True)"
            ]
        },
        {
            "cell_type": "code",
            "execution_count": 2,
            "metadata": {
                "colab": {
                    "base_uri": "https://localhost:8080/"
                },
                "executionInfo": {
                    "elapsed": 4389,
                    "status": "ok",
                    "timestamp": 1664470020811,
                    "user": {
                        "displayName": "K B",
                        "userId": "08203440670727614263"
                    },
                    "user_tz": 360
                },
                "id": "N3qTSPy0ZLhe",
                "outputId": "e68d63f8-e9c4-44d8-97d6-e0cbfc37968d"
            },
            "outputs": [
                {
                    "output_type": "stream",
                    "name": "stdout",
                    "text": [
                        "Looking in indexes: https://pypi.org/simple, https://us-python.pkg.dev/colab-wheels/public/simple/\n",
                        "Requirement already satisfied: keras in /usr/local/lib/python3.7/dist-packages (2.8.0)\n"
                    ]
                }
            ],
            "source": [
                "!pip install keras"
            ]
        },
        {
            "cell_type": "code",
            "execution_count": 3,
            "metadata": {
                "executionInfo": {
                    "elapsed": 5162,
                    "status": "ok",
                    "timestamp": 1664470025949,
                    "user": {
                        "displayName": "K B",
                        "userId": "08203440670727614263"
                    },
                    "user_tz": 360
                },
                "id": "HpOCpO2HYw1x"
            },
            "outputs": [],
            "source": [
                "import pandas as pd\n",
                "import numpy as np\n",
                "import keras\n",
                "import time\n",
                "from keras.models import Sequential\n",
                "from keras.layers import Dense\n",
                "from keras.layers import LSTM\n",
                "from tensorflow.keras import optimizers\n",
                "#from keras.optimizers import RMSprop\n",
                "import numpy as np\n",
                "import random\n",
                "import os"
            ]
        },
        {
            "cell_type": "markdown",
            "metadata": {
                "id": "1sbnZh0NYw12"
            },
            "source": [
                "## Settings"
            ]
        },
        {
            "cell_type": "code",
            "execution_count": 4,
            "metadata": {
                "executionInfo": {
                    "elapsed": 271,
                    "status": "ok",
                    "timestamp": 1664470026211,
                    "user": {
                        "displayName": "K B",
                        "userId": "08203440670727614263"
                    },
                    "user_tz": 360
                },
                "id": "TJ_kyOLCYw14"
            },
            "outputs": [],
            "source": [
                "step_length = 1    # The step length we take to get our samples from our corpus\n",
                "epochs = 100       # Number of times we train on our full data\n",
                "batch_size = 32    # Data samples in each training step\n",
                "latent_dim = 256    # Size of our LSTM\n",
                "dropout_rate = 0.5 # Regularization with dropout\n",
                "model_path = os.path.realpath('/content/drive/MyDrive/Colab Notebooks/pokemon-name-generator/output/poke_gen_model.h5') # Location for the model\n",
                "load_model = True # Enable loading model from disk\n",
                "store_model = True # Store model to disk after training\n",
                "verbosity = 1      # Print result for each epoch\n",
                "gen_amount = 10    # How many "
            ]
        },
        {
            "cell_type": "markdown",
            "metadata": {
                "id": "8FQtCFePYw17"
            },
            "source": [
                "## Loading data\n",
                "\n",
                "This version uses an html table from bulbapedia. Also does preprocessing like removing special characters and only using lowercase characters."
            ]
        },
        {
            "cell_type": "code",
            "execution_count": 5,
            "metadata": {
                "executionInfo": {
                    "elapsed": 2345,
                    "status": "ok",
                    "timestamp": 1664470028545,
                    "user": {
                        "displayName": "K B",
                        "userId": "08203440670727614263"
                    },
                    "user_tz": 360
                },
                "id": "Ut7ecu9vYw1-"
            },
            "outputs": [],
            "source": [
                "# Input paths for the individual tables\n",
                "input_path_1 = os.path.realpath('/content/drive/MyDrive/Colab Notebooks/pokemon-name-generator/input/bulbapedia_gen_1.html')\n",
                "input_path_2 = os.path.realpath('/content/drive/MyDrive/Colab Notebooks/pokemon-name-generator/input/bulbapedia_gen_2.html')\n",
                "input_path_3 = os.path.realpath('/content/drive/MyDrive/Colab Notebooks/pokemon-name-generator/input/bulbapedia_gen_3.html')\n",
                "input_path_4 = os.path.realpath('/content/drive/MyDrive/Colab Notebooks/pokemon-name-generator/input/bulbapedia_gen_4.html')\n",
                "input_path_5 = os.path.realpath('/content/drive/MyDrive/Colab Notebooks/pokemon-name-generator/input/bulbapedia_gen_5.html')\n",
                "input_path_6 = os.path.realpath('/content/drive/MyDrive/Colab Notebooks/pokemon-name-generator/input/bulbapedia_gen_6.html')\n",
                "input_path_7 = os.path.realpath('/content/drive/MyDrive/Colab Notebooks/pokemon-name-generator/input/bulbapedia_gen_7.html')\n",
                "input_path_8 = os.path.realpath('/content/drive/MyDrive/Colab Notebooks/pokemon-name-generator/input/bulbapedia_gen_8.html')\n",
                "input_path_9 = os.path.realpath('/content/drive/MyDrive/Colab Notebooks/pokemon-name-generator/input/bulbapedia_gen_9.html')\n",
                "# Construct a df of all files\n",
                "df = pd.read_html(input_path_1, index_col='Ndex')[0][['PokÃ©mon','Type','Type.1']]\n",
                "df = df.append(pd.read_html(input_path_2)[0][['PokÃ©mon','Type','Type.1']], ignore_index=True)\n",
                "df = df.append(pd.read_html(input_path_3)[0][['PokÃ©mon','Type','Type.1']], ignore_index=True)\n",
                "df = df.append(pd.read_html(input_path_4)[0][['PokÃ©mon','Type','Type.1']], ignore_index=True)\n",
                "df = df.append(pd.read_html(input_path_5)[0][['PokÃ©mon','Type','Type.1']], ignore_index=True)\n",
                "df = df.append(pd.read_html(input_path_6)[0][['PokÃ©mon','Type','Type.1']], ignore_index=True)\n",
                "df = df.append(pd.read_html(input_path_7)[0][['PokÃ©mon','Type','Type.1']], ignore_index=True)\n",
                "df = df.append(pd.read_html(input_path_8)[0][['PokÃ©mon','Type','Type.1']], ignore_index=True)\n",
                "#df = df.append(pd.read_html(input_path_9)[0][['PokÃ©mon','Type','Type.1']], ignore_index=True)\n",
                "\n",
                "df.rename(columns = {'PokÃ©mon':'Pokemon'}, inplace=True)\n",
                "df['Pokemon'] = df['Pokemon'].str.lower()\n",
                "df['Type'] = df['Type'].str.lower()\n",
                "df['Type.1'] = df['Type.1'].str.lower()\n",
                "df=df.replace(r'[^a-z]','', regex=True)\n",
                "\n",
                "dummy_types = pd.get_dummies(df, prefix='', prefix_sep='', columns=['Type'])\n",
                "dummy_types_1 = pd.get_dummies(df, prefix='', prefix_sep='', columns=['Type.1'])\n",
                "dummy_types.drop(['Pokemon', 'Type.1'], axis=1, inplace=True)\n",
                "dummy_types_1.drop(['Pokemon', 'Type'], axis=1, inplace=True)\n",
                "dummy_types = dummy_types.add(dummy_types_1, fill_value=0).astype(int)\n",
                "df.drop(['Type', 'Type.1'], axis=1, inplace=True)\n",
                "df = df.join(dummy_types)"
            ]
        },
        {
            "cell_type": "code",
            "source": [
                "df"
            ],
            "metadata": {
                "colab": {
                    "base_uri": "https://localhost:8080/",
                    "height": 424
                },
                "id": "6U10YUQvWPBX",
                "executionInfo": {
                    "status": "ok",
                    "timestamp": 1664470028553,
                    "user_tz": 360,
                    "elapsed": 27,
                    "user": {
                        "displayName": "K B",
                        "userId": "08203440670727614263"
                    }
                },
                "outputId": "227eb257-5c40-4db9-a0e1-107a38b52b24"
            },
            "execution_count": 6,
            "outputs": [
                {
                    "output_type": "execute_result",
                    "data": {
                        "text/plain": [
                            "         Pokemon  bug  dark  dragon  electric  fairy  fighting  fire  flying  \\\n",
                            "0      bulbasaur    0     0       0         0      0         0     0       0   \n",
                            "1        ivysaur    0     0       0         0      0         0     0       0   \n",
                            "2       venusaur    0     0       0         0      0         0     0       0   \n",
                            "3     charmander    0     0       0         0      0         0     2       0   \n",
                            "4     charmeleon    0     0       0         0      0         0     2       0   \n",
                            "..           ...  ...   ...     ...       ...    ...       ...   ...     ...   \n",
                            "971     ursaluna    0     0       0         0      0         0     0       0   \n",
                            "972  basculegion    0     0       0         0      0         0     0       0   \n",
                            "973     sneasler    0     0       0         0      0         1     0       0   \n",
                            "974     overqwil    0     1       0         0      0         0     0       0   \n",
                            "975     enamorus    0     0       0         0      1         0     0       1   \n",
                            "\n",
                            "     ghost  grass  ground  ice  normal  poison  psychic  rock  steel  water  \n",
                            "0        0      1       0    0       0       1        0     0      0      0  \n",
                            "1        0      1       0    0       0       1        0     0      0      0  \n",
                            "2        0      1       0    0       0       1        0     0      0      0  \n",
                            "3        0      0       0    0       0       0        0     0      0      0  \n",
                            "4        0      0       0    0       0       0        0     0      0      0  \n",
                            "..     ...    ...     ...  ...     ...     ...      ...   ...    ...    ...  \n",
                            "971      0      0       1    0       1       0        0     0      0      0  \n",
                            "972      1      0       0    0       0       0        0     0      0      1  \n",
                            "973      0      0       0    0       0       1        0     0      0      0  \n",
                            "974      0      0       0    0       0       1        0     0      0      0  \n",
                            "975      0      0       0    0       0       0        0     0      0      0  \n",
                            "\n",
                            "[976 rows x 19 columns]"
                        ],
                        "text/html": [
                            "\n",
                            "  <div id=\"df-66c40571-14fc-4ae5-834f-93134c55b7c6\">\n",
                            "    <div class=\"colab-df-container\">\n",
                            "      <div>\n",
                            "<style scoped>\n",
                            "    .dataframe tbody tr th:only-of-type {\n",
                            "        vertical-align: middle;\n",
                            "    }\n",
                            "\n",
                            "    .dataframe tbody tr th {\n",
                            "        vertical-align: top;\n",
                            "    }\n",
                            "\n",
                            "    .dataframe thead th {\n",
                            "        text-align: right;\n",
                            "    }\n",
                            "</style>\n",
                            "<table border=\"1\" class=\"dataframe\">\n",
                            "  <thead>\n",
                            "    <tr style=\"text-align: right;\">\n",
                            "      <th></th>\n",
                            "      <th>Pokemon</th>\n",
                            "      <th>bug</th>\n",
                            "      <th>dark</th>\n",
                            "      <th>dragon</th>\n",
                            "      <th>electric</th>\n",
                            "      <th>fairy</th>\n",
                            "      <th>fighting</th>\n",
                            "      <th>fire</th>\n",
                            "      <th>flying</th>\n",
                            "      <th>ghost</th>\n",
                            "      <th>grass</th>\n",
                            "      <th>ground</th>\n",
                            "      <th>ice</th>\n",
                            "      <th>normal</th>\n",
                            "      <th>poison</th>\n",
                            "      <th>psychic</th>\n",
                            "      <th>rock</th>\n",
                            "      <th>steel</th>\n",
                            "      <th>water</th>\n",
                            "    </tr>\n",
                            "  </thead>\n",
                            "  <tbody>\n",
                            "    <tr>\n",
                            "      <th>0</th>\n",
                            "      <td>bulbasaur</td>\n",
                            "      <td>0</td>\n",
                            "      <td>0</td>\n",
                            "      <td>0</td>\n",
                            "      <td>0</td>\n",
                            "      <td>0</td>\n",
                            "      <td>0</td>\n",
                            "      <td>0</td>\n",
                            "      <td>0</td>\n",
                            "      <td>0</td>\n",
                            "      <td>1</td>\n",
                            "      <td>0</td>\n",
                            "      <td>0</td>\n",
                            "      <td>0</td>\n",
                            "      <td>1</td>\n",
                            "      <td>0</td>\n",
                            "      <td>0</td>\n",
                            "      <td>0</td>\n",
                            "      <td>0</td>\n",
                            "    </tr>\n",
                            "    <tr>\n",
                            "      <th>1</th>\n",
                            "      <td>ivysaur</td>\n",
                            "      <td>0</td>\n",
                            "      <td>0</td>\n",
                            "      <td>0</td>\n",
                            "      <td>0</td>\n",
                            "      <td>0</td>\n",
                            "      <td>0</td>\n",
                            "      <td>0</td>\n",
                            "      <td>0</td>\n",
                            "      <td>0</td>\n",
                            "      <td>1</td>\n",
                            "      <td>0</td>\n",
                            "      <td>0</td>\n",
                            "      <td>0</td>\n",
                            "      <td>1</td>\n",
                            "      <td>0</td>\n",
                            "      <td>0</td>\n",
                            "      <td>0</td>\n",
                            "      <td>0</td>\n",
                            "    </tr>\n",
                            "    <tr>\n",
                            "      <th>2</th>\n",
                            "      <td>venusaur</td>\n",
                            "      <td>0</td>\n",
                            "      <td>0</td>\n",
                            "      <td>0</td>\n",
                            "      <td>0</td>\n",
                            "      <td>0</td>\n",
                            "      <td>0</td>\n",
                            "      <td>0</td>\n",
                            "      <td>0</td>\n",
                            "      <td>0</td>\n",
                            "      <td>1</td>\n",
                            "      <td>0</td>\n",
                            "      <td>0</td>\n",
                            "      <td>0</td>\n",
                            "      <td>1</td>\n",
                            "      <td>0</td>\n",
                            "      <td>0</td>\n",
                            "      <td>0</td>\n",
                            "      <td>0</td>\n",
                            "    </tr>\n",
                            "    <tr>\n",
                            "      <th>3</th>\n",
                            "      <td>charmander</td>\n",
                            "      <td>0</td>\n",
                            "      <td>0</td>\n",
                            "      <td>0</td>\n",
                            "      <td>0</td>\n",
                            "      <td>0</td>\n",
                            "      <td>0</td>\n",
                            "      <td>2</td>\n",
                            "      <td>0</td>\n",
                            "      <td>0</td>\n",
                            "      <td>0</td>\n",
                            "      <td>0</td>\n",
                            "      <td>0</td>\n",
                            "      <td>0</td>\n",
                            "      <td>0</td>\n",
                            "      <td>0</td>\n",
                            "      <td>0</td>\n",
                            "      <td>0</td>\n",
                            "      <td>0</td>\n",
                            "    </tr>\n",
                            "    <tr>\n",
                            "      <th>4</th>\n",
                            "      <td>charmeleon</td>\n",
                            "      <td>0</td>\n",
                            "      <td>0</td>\n",
                            "      <td>0</td>\n",
                            "      <td>0</td>\n",
                            "      <td>0</td>\n",
                            "      <td>0</td>\n",
                            "      <td>2</td>\n",
                            "      <td>0</td>\n",
                            "      <td>0</td>\n",
                            "      <td>0</td>\n",
                            "      <td>0</td>\n",
                            "      <td>0</td>\n",
                            "      <td>0</td>\n",
                            "      <td>0</td>\n",
                            "      <td>0</td>\n",
                            "      <td>0</td>\n",
                            "      <td>0</td>\n",
                            "      <td>0</td>\n",
                            "    </tr>\n",
                            "    <tr>\n",
                            "      <th>...</th>\n",
                            "      <td>...</td>\n",
                            "      <td>...</td>\n",
                            "      <td>...</td>\n",
                            "      <td>...</td>\n",
                            "      <td>...</td>\n",
                            "      <td>...</td>\n",
                            "      <td>...</td>\n",
                            "      <td>...</td>\n",
                            "      <td>...</td>\n",
                            "      <td>...</td>\n",
                            "      <td>...</td>\n",
                            "      <td>...</td>\n",
                            "      <td>...</td>\n",
                            "      <td>...</td>\n",
                            "      <td>...</td>\n",
                            "      <td>...</td>\n",
                            "      <td>...</td>\n",
                            "      <td>...</td>\n",
                            "      <td>...</td>\n",
                            "    </tr>\n",
                            "    <tr>\n",
                            "      <th>971</th>\n",
                            "      <td>ursaluna</td>\n",
                            "      <td>0</td>\n",
                            "      <td>0</td>\n",
                            "      <td>0</td>\n",
                            "      <td>0</td>\n",
                            "      <td>0</td>\n",
                            "      <td>0</td>\n",
                            "      <td>0</td>\n",
                            "      <td>0</td>\n",
                            "      <td>0</td>\n",
                            "      <td>0</td>\n",
                            "      <td>1</td>\n",
                            "      <td>0</td>\n",
                            "      <td>1</td>\n",
                            "      <td>0</td>\n",
                            "      <td>0</td>\n",
                            "      <td>0</td>\n",
                            "      <td>0</td>\n",
                            "      <td>0</td>\n",
                            "    </tr>\n",
                            "    <tr>\n",
                            "      <th>972</th>\n",
                            "      <td>basculegion</td>\n",
                            "      <td>0</td>\n",
                            "      <td>0</td>\n",
                            "      <td>0</td>\n",
                            "      <td>0</td>\n",
                            "      <td>0</td>\n",
                            "      <td>0</td>\n",
                            "      <td>0</td>\n",
                            "      <td>0</td>\n",
                            "      <td>1</td>\n",
                            "      <td>0</td>\n",
                            "      <td>0</td>\n",
                            "      <td>0</td>\n",
                            "      <td>0</td>\n",
                            "      <td>0</td>\n",
                            "      <td>0</td>\n",
                            "      <td>0</td>\n",
                            "      <td>0</td>\n",
                            "      <td>1</td>\n",
                            "    </tr>\n",
                            "    <tr>\n",
                            "      <th>973</th>\n",
                            "      <td>sneasler</td>\n",
                            "      <td>0</td>\n",
                            "      <td>0</td>\n",
                            "      <td>0</td>\n",
                            "      <td>0</td>\n",
                            "      <td>0</td>\n",
                            "      <td>1</td>\n",
                            "      <td>0</td>\n",
                            "      <td>0</td>\n",
                            "      <td>0</td>\n",
                            "      <td>0</td>\n",
                            "      <td>0</td>\n",
                            "      <td>0</td>\n",
                            "      <td>0</td>\n",
                            "      <td>1</td>\n",
                            "      <td>0</td>\n",
                            "      <td>0</td>\n",
                            "      <td>0</td>\n",
                            "      <td>0</td>\n",
                            "    </tr>\n",
                            "    <tr>\n",
                            "      <th>974</th>\n",
                            "      <td>overqwil</td>\n",
                            "      <td>0</td>\n",
                            "      <td>1</td>\n",
                            "      <td>0</td>\n",
                            "      <td>0</td>\n",
                            "      <td>0</td>\n",
                            "      <td>0</td>\n",
                            "      <td>0</td>\n",
                            "      <td>0</td>\n",
                            "      <td>0</td>\n",
                            "      <td>0</td>\n",
                            "      <td>0</td>\n",
                            "      <td>0</td>\n",
                            "      <td>0</td>\n",
                            "      <td>1</td>\n",
                            "      <td>0</td>\n",
                            "      <td>0</td>\n",
                            "      <td>0</td>\n",
                            "      <td>0</td>\n",
                            "    </tr>\n",
                            "    <tr>\n",
                            "      <th>975</th>\n",
                            "      <td>enamorus</td>\n",
                            "      <td>0</td>\n",
                            "      <td>0</td>\n",
                            "      <td>0</td>\n",
                            "      <td>0</td>\n",
                            "      <td>1</td>\n",
                            "      <td>0</td>\n",
                            "      <td>0</td>\n",
                            "      <td>1</td>\n",
                            "      <td>0</td>\n",
                            "      <td>0</td>\n",
                            "      <td>0</td>\n",
                            "      <td>0</td>\n",
                            "      <td>0</td>\n",
                            "      <td>0</td>\n",
                            "      <td>0</td>\n",
                            "      <td>0</td>\n",
                            "      <td>0</td>\n",
                            "      <td>0</td>\n",
                            "    </tr>\n",
                            "  </tbody>\n",
                            "</table>\n",
                            "<p>976 rows × 19 columns</p>\n",
                            "</div>\n",
                            "      <button class=\"colab-df-convert\" onclick=\"convertToInteractive('df-66c40571-14fc-4ae5-834f-93134c55b7c6')\"\n",
                            "              title=\"Convert this dataframe to an interactive table.\"\n",
                            "              style=\"display:none;\">\n",
                            "        \n",
                            "  <svg xmlns=\"http://www.w3.org/2000/svg\" height=\"24px\"viewBox=\"0 0 24 24\"\n",
                            "       width=\"24px\">\n",
                            "    <path d=\"M0 0h24v24H0V0z\" fill=\"none\"/>\n",
                            "    <path d=\"M18.56 5.44l.94 2.06.94-2.06 2.06-.94-2.06-.94-.94-2.06-.94 2.06-2.06.94zm-11 1L8.5 8.5l.94-2.06 2.06-.94-2.06-.94L8.5 2.5l-.94 2.06-2.06.94zm10 10l.94 2.06.94-2.06 2.06-.94-2.06-.94-.94-2.06-.94 2.06-2.06.94z\"/><path d=\"M17.41 7.96l-1.37-1.37c-.4-.4-.92-.59-1.43-.59-.52 0-1.04.2-1.43.59L10.3 9.45l-7.72 7.72c-.78.78-.78 2.05 0 2.83L4 21.41c.39.39.9.59 1.41.59.51 0 1.02-.2 1.41-.59l7.78-7.78 2.81-2.81c.8-.78.8-2.07 0-2.86zM5.41 20L4 18.59l7.72-7.72 1.47 1.35L5.41 20z\"/>\n",
                            "  </svg>\n",
                            "      </button>\n",
                            "      \n",
                            "  <style>\n",
                            "    .colab-df-container {\n",
                            "      display:flex;\n",
                            "      flex-wrap:wrap;\n",
                            "      gap: 12px;\n",
                            "    }\n",
                            "\n",
                            "    .colab-df-convert {\n",
                            "      background-color: #E8F0FE;\n",
                            "      border: none;\n",
                            "      border-radius: 50%;\n",
                            "      cursor: pointer;\n",
                            "      display: none;\n",
                            "      fill: #1967D2;\n",
                            "      height: 32px;\n",
                            "      padding: 0 0 0 0;\n",
                            "      width: 32px;\n",
                            "    }\n",
                            "\n",
                            "    .colab-df-convert:hover {\n",
                            "      background-color: #E2EBFA;\n",
                            "      box-shadow: 0px 1px 2px rgba(60, 64, 67, 0.3), 0px 1px 3px 1px rgba(60, 64, 67, 0.15);\n",
                            "      fill: #174EA6;\n",
                            "    }\n",
                            "\n",
                            "    [theme=dark] .colab-df-convert {\n",
                            "      background-color: #3B4455;\n",
                            "      fill: #D2E3FC;\n",
                            "    }\n",
                            "\n",
                            "    [theme=dark] .colab-df-convert:hover {\n",
                            "      background-color: #434B5C;\n",
                            "      box-shadow: 0px 1px 3px 1px rgba(0, 0, 0, 0.15);\n",
                            "      filter: drop-shadow(0px 1px 2px rgba(0, 0, 0, 0.3));\n",
                            "      fill: #FFFFFF;\n",
                            "    }\n",
                            "  </style>\n",
                            "\n",
                            "      <script>\n",
                            "        const buttonEl =\n",
                            "          document.querySelector('#df-66c40571-14fc-4ae5-834f-93134c55b7c6 button.colab-df-convert');\n",
                            "        buttonEl.style.display =\n",
                            "          google.colab.kernel.accessAllowed ? 'block' : 'none';\n",
                            "\n",
                            "        async function convertToInteractive(key) {\n",
                            "          const element = document.querySelector('#df-66c40571-14fc-4ae5-834f-93134c55b7c6');\n",
                            "          const dataTable =\n",
                            "            await google.colab.kernel.invokeFunction('convertToInteractive',\n",
                            "                                                     [key], {});\n",
                            "          if (!dataTable) return;\n",
                            "\n",
                            "          const docLinkHtml = 'Like what you see? Visit the ' +\n",
                            "            '<a target=\"_blank\" href=https://colab.research.google.com/notebooks/data_table.ipynb>data table notebook</a>'\n",
                            "            + ' to learn more about interactive tables.';\n",
                            "          element.innerHTML = '';\n",
                            "          dataTable['output_type'] = 'display_data';\n",
                            "          await google.colab.output.renderOutput(dataTable, element);\n",
                            "          const docLink = document.createElement('div');\n",
                            "          docLink.innerHTML = docLinkHtml;\n",
                            "          element.appendChild(docLink);\n",
                            "        }\n",
                            "      </script>\n",
                            "    </div>\n",
                            "  </div>\n",
                            "  "
                        ]
                    },
                    "metadata": {},
                    "execution_count": 6
                }
            ]
        },
        {
            "cell_type": "markdown",
            "metadata": {
                "id": "NQtkKgAjYw2B"
            },
            "source": [
                "## Preprocessing\n",
                "- Concatenate all Pokémon names into a long string corpus.\n",
                "- Build dicionaries to translate chars to indices in a binary char vector.\n",
                "- Find a suitable sequence window, I base it on the longest name I find."
            ]
        },
        {
            "cell_type": "code",
            "execution_count": 7,
            "metadata": {
                "colab": {
                    "base_uri": "https://localhost:8080/"
                },
                "executionInfo": {
                    "elapsed": 12770,
                    "status": "ok",
                    "timestamp": 1664470041412,
                    "user": {
                        "displayName": "K B",
                        "userId": "08203440670727614263"
                    },
                    "user_tz": 360
                },
                "id": "kQ6L2v0nYw2D",
                "outputId": "03388823-d419-4c6b-8224-9116a5efa977"
            },
            "outputs": [
                {
                    "output_type": "stream",
                    "name": "stdout",
                    "text": [
                        "Total chars: 27\n",
                        "Corpus length names: 8283\n",
                        "Corpus length types:  8283\n",
                        "Number of names:  976\n",
                        "Longest name:  12\n"
                    ]
                }
            ],
            "source": [
                "sample_df = df.sample(frac=1, random_state=1).copy()\n",
                "input_names = sample_df['Pokemon']\n",
                "\n",
                "# Make it all to a long string\n",
                "concat_names = '\\n'.join(input_names).lower()\n",
                "concat_types = []\n",
                "name_idx = 0\n",
                "for c in concat_names:\n",
                "  if c == '\\n':\n",
                "    name_idx += 1\n",
                "    concat_types.append([0]*len(concat_types[0]))\n",
                "  else:\n",
                "    concat_types.append(sample_df.values.tolist()[name_idx][1:])\n",
                "# Find all unique characters by using set()\n",
                "chars = sorted(list(set(concat_names)))\n",
                "num_chars = len(chars)\n",
                "\n",
                "# Build translation dictionaries, 'a' -> 0, 0 -> 'a'\n",
                "char2idx = dict((c, i) for i, c in enumerate(chars))\n",
                "idx2char = dict((i, c) for i, c in enumerate(chars))\n",
                "\n",
                "# Use longest name length as our sequence window\n",
                "max_sequence_length = max([len(name) for name in input_names])\n",
                "\n",
                "print('Total chars: {}'.format(num_chars))\n",
                "print('Corpus length names:', len(concat_names))\n",
                "print('Corpus length types: ', len(concat_types))\n",
                "print('Number of names: ', len(input_names))\n",
                "print('Longest name: ', max_sequence_length)"
            ]
        },
        {
            "cell_type": "markdown",
            "metadata": {
                "id": "LRhCLbFWYw2F"
            },
            "source": [
                "Make a training set where we take samples with sequence length as our input and the next char as label."
            ]
        },
        {
            "cell_type": "code",
            "execution_count": 8,
            "metadata": {
                "colab": {
                    "base_uri": "https://localhost:8080/"
                },
                "executionInfo": {
                    "elapsed": 18,
                    "status": "ok",
                    "timestamp": 1664470041414,
                    "user": {
                        "displayName": "K B",
                        "userId": "08203440670727614263"
                    },
                    "user_tz": 360
                },
                "id": "lyqxDC_-Yw2H",
                "outputId": "0deac4f4-3f5e-4cf7-924d-4e7c0dea0497"
            },
            "outputs": [
                {
                    "output_type": "stream",
                    "name": "stdout",
                    "text": [
                        "Number of sequences: 8271\n",
                        "First 10 sequences and next chars:\n",
                        "X=[cursola litl] \t y=[e] \t first_char_type%=[0, 0, 0, 0, 0, 0, 0, 0, 2, 0, 0, 0, 0, 0, 0, 0, 0, 0]\n",
                        "X=[ursola litle] \t y=[o] \t first_char_type%=[0, 0, 0, 0, 0, 0, 0, 0, 2, 0, 0, 0, 0, 0, 0, 0, 0, 0]\n",
                        "X=[rsola litleo] \t y=[ ] \t first_char_type%=[0, 0, 0, 0, 0, 0, 0, 0, 2, 0, 0, 0, 0, 0, 0, 0, 0, 0]\n",
                        "X=[sola litleo ] \t y=[r] \t first_char_type%=[0, 0, 0, 0, 0, 0, 0, 0, 2, 0, 0, 0, 0, 0, 0, 0, 0, 0]\n",
                        "X=[ola litleo r] \t y=[o] \t first_char_type%=[0, 0, 0, 0, 0, 0, 0, 0, 2, 0, 0, 0, 0, 0, 0, 0, 0, 0]\n",
                        "X=[la litleo ro] \t y=[t] \t first_char_type%=[0, 0, 0, 0, 0, 0, 0, 0, 2, 0, 0, 0, 0, 0, 0, 0, 0, 0]\n",
                        "X=[a litleo rot] \t y=[o] \t first_char_type%=[0, 0, 0, 0, 0, 0, 0, 0, 2, 0, 0, 0, 0, 0, 0, 0, 0, 0]\n",
                        "X=[ litleo roto] \t y=[m] \t first_char_type%=[0, 0, 0, 0, 0, 0, 0, 0, 0, 0, 0, 0, 0, 0, 0, 0, 0, 0]\n",
                        "X=[litleo rotom] \t y=[ ] \t first_char_type%=[0, 0, 0, 0, 0, 0, 1, 0, 0, 0, 0, 0, 1, 0, 0, 0, 0, 0]\n",
                        "X=[itleo rotom ] \t y=[s] \t first_char_type%=[0, 0, 0, 0, 0, 0, 1, 0, 0, 0, 0, 0, 1, 0, 0, 0, 0, 0]\n"
                    ]
                }
            ],
            "source": [
                "type_sums = []\n",
                "types = []\n",
                "sequences = []\n",
                "next_chars = []\n",
                "\n",
                "# Loop over our data and extract pairs of sequances and next chars\n",
                "for i in range(0, len(concat_names) - max_sequence_length, step_length):\n",
                "    types.append(concat_types[i: i + max_sequence_length])\n",
                "    sequences.append(concat_names[i: i + max_sequence_length])\n",
                "    next_chars.append(concat_names[i + max_sequence_length])\n",
                "\n",
                "num_sequences = len(sequences)\n",
                "\n",
                "print('Number of sequences:', num_sequences)\n",
                "print('First 10 sequences and next chars:')\n",
                "for i in range(10):\n",
                "    print('X=[{}] \\t y=[{}] \\t first_char_type%={}'.replace('\\n', ' ').format(sequences[i], next_chars[i], str(types[i][0])).replace('\\n', ' '))"
            ]
        },
        {
            "cell_type": "markdown",
            "metadata": {
                "id": "HrCiM7BcYw2K"
            },
            "source": [
                "One-hot encoding our data into char vectors by using the translation dictionary from earlier.\n",
                "\n",
                "#### Example\n",
                "\n",
                "- 'a'   => [1, 0, 0, ..., 0]\n",
                "\n",
                "- 'b'   => [0, 1, 0, ..., 0]\n",
                "\n",
                "- 'c'   => [0, 0, 1, ..., 0]\n",
                "\n",
                "- 'abc' => [[1, 0, 0, ..., 0], [0, 1, 0, ..., 0], [0, 0, 1, ..., 0]] "
            ]
        },
        {
            "cell_type": "code",
            "execution_count": 9,
            "metadata": {
                "colab": {
                    "base_uri": "https://localhost:8080/"
                },
                "executionInfo": {
                    "elapsed": 2641,
                    "status": "ok",
                    "timestamp": 1664470044042,
                    "user": {
                        "displayName": "K B",
                        "userId": "08203440670727614263"
                    },
                    "user_tz": 360
                },
                "id": "M8QafVb4Yw2L",
                "outputId": "67aa9ab5-5ff0-43e1-c105-f91738fa4d1f"
            },
            "outputs": [
                {
                    "output_type": "stream",
                    "name": "stdout",
                    "text": [
                        "X shape: (8271, 12, 45)\n",
                        "Y shape: (8271, 27)\n"
                    ]
                }
            ],
            "source": [
                "X = np.zeros((num_sequences, max_sequence_length, num_chars+len(concat_types[0])), dtype=bool)\n",
                "Y = np.zeros((num_sequences, num_chars), dtype=bool)\n",
                "\n",
                "for i, sequence in enumerate(sequences):\n",
                "  for j, char in enumerate(sequence):\n",
                "    X[i, j, char2idx[char]] = 1\n",
                "  for j in range(max_sequence_length):\n",
                "    for k in range(len(types[0][0])):\n",
                "      X[i, j, num_chars+k] = types[i][j][k]>0\n",
                "  Y[i, char2idx[next_chars[i]]] = 1\n",
                "\n",
                "    \n",
                "print('X shape: {}'.format(X.shape))\n",
                "print('Y shape: {}'.format(Y.shape))"
            ]
        },
        {
            "cell_type": "markdown",
            "metadata": {
                "id": "W-epGYSAYw2N"
            },
            "source": [
                "## Build model\n",
                "\n",
                "Build a standard LSTM network with: \n",
                "\n",
                "- Input shape: (max_sequence_length x num_chars) - representing our sequences.\n",
                "- Output shape: num_chars - representing the next char coming after each sequence.\n",
                "- Output activation: Softmax - since only one value should be 1 in output char vector.\n",
                "- Loss: Categorical cross-entrophy - standard loss for multi-class classification."
            ]
        },
        {
            "cell_type": "code",
            "execution_count": 10,
            "metadata": {
                "colab": {
                    "base_uri": "https://localhost:8080/"
                },
                "executionInfo": {
                    "elapsed": 1005,
                    "status": "ok",
                    "timestamp": 1664470045027,
                    "user": {
                        "displayName": "K B",
                        "userId": "08203440670727614263"
                    },
                    "user_tz": 360
                },
                "id": "E1vzgJuJYw2O",
                "outputId": "d359fc50-55ab-4e1c-d66d-abc5160857f3"
            },
            "outputs": [
                {
                    "output_type": "stream",
                    "name": "stdout",
                    "text": [
                        "Model: \"sequential\"\n",
                        "_________________________________________________________________\n",
                        " Layer (type)                Output Shape              Param #   \n",
                        "=================================================================\n",
                        " lstm (LSTM)                 (None, 256)               309248    \n",
                        "                                                                 \n",
                        " dense (Dense)               (None, 27)                6939      \n",
                        "                                                                 \n",
                        "=================================================================\n",
                        "Total params: 316,187\n",
                        "Trainable params: 316,187\n",
                        "Non-trainable params: 0\n",
                        "_________________________________________________________________\n"
                    ]
                },
                {
                    "output_type": "stream",
                    "name": "stderr",
                    "text": [
                        "/usr/local/lib/python3.7/dist-packages/keras/optimizer_v2/rmsprop.py:130: UserWarning: The `lr` argument is deprecated, use `learning_rate` instead.\n",
                        "  super(RMSprop, self).__init__(name, **kwargs)\n"
                    ]
                }
            ],
            "source": [
                "model = Sequential()\n",
                "model.add(LSTM(latent_dim, \n",
                "               input_shape=(max_sequence_length, num_chars+len(concat_types[0])),  \n",
                "               recurrent_dropout=dropout_rate))\n",
                "model.add(Dense(units=num_chars, activation='softmax'))\n",
                "\n",
                "optimizer = optimizers.RMSprop(lr=0.01)\n",
                "model.compile(loss='categorical_crossentropy',\n",
                "              optimizer=optimizer)\n",
                "\n",
                "model.summary()"
            ]
        },
        {
            "cell_type": "markdown",
            "metadata": {
                "id": "5cADZwKLYw2P"
            },
            "source": [
                "## Training\n",
                "\n",
                "Watching the loss, doing cross-validation and all that good stuff is not that important here. The best model will not be found by optimizing some metric. We just want to strike a balance between a model that just output gibberish like 'sadsdaddddd' and model that memorizes the names it was trained on. For this it is better to just inspect the output and judge from that."
            ]
        },
        {
            "cell_type": "code",
            "execution_count": 11,
            "metadata": {
                "colab": {
                    "base_uri": "https://localhost:8080/"
                },
                "executionInfo": {
                    "elapsed": 135,
                    "status": "ok",
                    "timestamp": 1664470045154,
                    "user": {
                        "displayName": "K B",
                        "userId": "08203440670727614263"
                    },
                    "user_tz": 360
                },
                "id": "aTMYncATYw2Q",
                "outputId": "402e00fd-d57c-4b8d-f1b9-a1003eb4e89f"
            },
            "outputs": [
                {
                    "output_type": "stream",
                    "name": "stdout",
                    "text": [
                        "Storing model at: /content/drive/MyDrive/Colab Notebooks/pokemon-name-generator/output/poke_gen_model.h5\n"
                    ]
                }
            ],
            "source": [
                "if load_model:\n",
                "    model.load_weights(model_path)\n",
                "else:\n",
                "    \n",
                "    start = time.time()\n",
                "    print('Start training for {} epochs'.format(epochs))\n",
                "    history = model.fit(X, Y, epochs=epochs, batch_size=batch_size, verbose=verbosity)\n",
                "    end = time.time()\n",
                "    print('Finished training - time elapsed:', (end - start)/60, 'min')\n",
                "    \n",
                "if store_model:\n",
                "    print('Storing model at:', model_path)\n",
                "    model.save(model_path)"
            ]
        },
        {
            "cell_type": "markdown",
            "metadata": {
                "id": "KMwFrUuWYw2R"
            },
            "source": [
                "## Generation\n",
                "\n",
                "Generate names by starting with a real sequence from the corpus, continuously predicting the next char while updating the sequence. To get diversity the correct char is selected from a probability distribution based on the models prediction. This can also be furthered by something called temperature, which I didn't use here.\n",
                "\n",
                "I also added some postprocessing to remove things I did not like manually. Some of this could possibly be done by teaking the network, but I was happy with the way the names looked overall. "
            ]
        },
        {
            "cell_type": "code",
            "execution_count": 12,
            "metadata": {
                "colab": {
                    "base_uri": "https://localhost:8080/"
                },
                "executionInfo": {
                    "elapsed": 5875,
                    "status": "ok",
                    "timestamp": 1664470051015,
                    "user": {
                        "displayName": "K B",
                        "userId": "08203440670727614263"
                    },
                    "user_tz": 360
                },
                "id": "tCFM40zpYw2T",
                "outputId": "b43c7b4d-8e2d-4e23-bd60-e5c27ceb40f1"
            },
            "outputs": [
                {
                    "output_type": "stream",
                    "name": "stdout",
                    "text": [
                        "10 new names are being generated\n",
                        "Generated 1\n",
                        "Generated 2\n",
                        "Generated 3\n",
                        "Generated 4\n",
                        "Generated 5\n",
                        "Generated 6\n",
                        "Generated 7\n",
                        "Generated 8\n",
                        "Generated 9\n",
                        "Generated 10\n"
                    ]
                }
            ],
            "source": [
                "# Start sequence generation from end of input sequence\n",
                "sequence = concat_names[-(max_sequence_length - 1):] + '\\n'\n",
                "type_sequence = concat_types[-(max_sequence_length - 1):]\n",
                "type_sequence.append([0]*len(concat_types[0]))\n",
                "\n",
                "desired_type = [1,  #Bug\n",
                "                0,  #Dark\n",
                "                0,  #Dragon\n",
                "                0,  #Electric\n",
                "                0,  #Fairy\n",
                "                0,  #Fighting\n",
                "                0,  #Fire\n",
                "                0,  #Flying\n",
                "                0,  #Ghost\n",
                "                0,  #Grass\n",
                "                0,  #Ground\n",
                "                0,  #Ice\n",
                "                0,  #Normal\n",
                "                0,  #Poison\n",
                "                0,  #Psychic\n",
                "                0,  #Rock\n",
                "                0,  #Steel\n",
                "                0]  #Water\n",
                "\n",
                "new_names = []\n",
                "\n",
                "print('{} new names are being generated'.format(gen_amount))\n",
                "\n",
                "while len(new_names) < gen_amount:\n",
                "    \n",
                "    # Vectorize sequence for prediction\n",
                "    x = np.zeros((1, max_sequence_length, num_chars+len(desired_type)))\n",
                "    for i, char in enumerate(sequence):\n",
                "      x[0, i, char2idx[char]] = 1\n",
                "    for i in range(max_sequence_length):\n",
                "      for j in range(len(desired_type)):\n",
                "        x[0, i, num_chars+j] = type_sequence[i][j]\n",
                "\n",
                "    # Sample next char from predicted probabilities\n",
                "    probs = model.predict(x, verbose=0)[0]\n",
                "    probs /= probs.sum()\n",
                "    next_idx = np.random.choice(len(probs), p=probs)   \n",
                "    next_char = idx2char[next_idx]   \n",
                "    sequence = sequence[1:] + next_char\n",
                "    type_sequence = type_sequence[1:] + [desired_type]\n",
                "\n",
                "    # New line means we have a new name\n",
                "    if next_char == '\\n':\n",
                "        type_sequence[-1] = [0]*len(concat_types[0])\n",
                "        gen_name = [name for name in sequence.split('\\n')][1]\n",
                "\n",
                "        # Never start name with two identical chars, could probably also\n",
                "        if len(gen_name) > 2 and gen_name[0] == gen_name[1]:\n",
                "            gen_name = gen_name[1:]\n",
                "\n",
                "        # Discard all names that are too short\n",
                "        if len(gen_name) > 2:\n",
                "            \n",
                "            # Only allow new and unique names\n",
                "            if not (gen_name in input_names.to_list() or gen_name.capitalize() in new_names):\n",
                "                new_names.append(gen_name.capitalize())\n",
                "\n",
                "        if 0 == (len(new_names) % (gen_amount/ 10)):\n",
                "            print('Generated {}'.format(len(new_names)))"
            ]
        },
        {
            "cell_type": "markdown",
            "metadata": {
                "id": "FvJJdc2oYw2U"
            },
            "source": [
                "## Results\n",
                "\n",
                "Here are the results. I personally cannot tell the difference between generated names and names of Pokémon I dont know. Sometimes there are giveaways, but overall the names are convincing and diverse!"
            ]
        },
        {
            "cell_type": "code",
            "execution_count": 13,
            "metadata": {
                "colab": {
                    "base_uri": "https://localhost:8080/"
                },
                "executionInfo": {
                    "elapsed": 18,
                    "status": "ok",
                    "timestamp": 1664470051017,
                    "user": {
                        "displayName": "K B",
                        "userId": "08203440670727614263"
                    },
                    "user_tz": 360
                },
                "id": "G04cQs9eYw2V",
                "outputId": "0c64a766-90fa-43c5-90b7-a70fc177eea7"
            },
            "outputs": [
                {
                    "output_type": "stream",
                    "name": "stdout",
                    "text": [
                        "First 10 generated names:\n",
                        "Zotzzle\n",
                        "Zagastlea\n",
                        "Coscytthor\n",
                        "Buttle\n",
                        "Wormadar\n",
                        "Silcom\n",
                        "Anumisk\n",
                        "Sicvelipe\n",
                        "Derescoon\n",
                        "Ildurrmot\n"
                    ]
                }
            ],
            "source": [
                "print_first_n = min(10, gen_amount)\n",
                "\n",
                "print('First {} generated names:'.format(print_first_n))\n",
                "for name in new_names[:print_first_n]:\n",
                "    print(name)"
            ]
        },
        {
            "cell_type": "markdown",
            "metadata": {
                "id": "sYJf54vOYw2W"
            },
            "source": [
                "Storing the results"
            ]
        },
        {
            "cell_type": "code",
            "execution_count": 15,
            "metadata": {
                "id": "-X53WwbIYw2X",
                "executionInfo": {
                    "status": "ok",
                    "timestamp": 1664470614940,
                    "user_tz": 360,
                    "elapsed": 95,
                    "user": {
                        "displayName": "K B",
                        "userId": "08203440670727614263"
                    }
                }
            },
            "outputs": [],
            "source": [
                "concat_output = '\\n'.join(sorted(new_names))\n",
                "output_path = os.path.realpath('/content/drive/MyDrive/Colab Notebooks/pokemon-name-generator/output/generated_names.txt')\n",
                "\n",
                "with open(output_path, 'a') as f:\n",
                "    f.write(concat_output)"
            ]
        }
    ],
    "metadata": {
        "colab": {
            "collapsed_sections": [],
            "provenance": [],
            "toc_visible": true
        },
        "kernelspec": {
            "display_name": "Python 3",
            "language": "python",
            "name": "python3"
        },
        "language_info": {
            "codemirror_mode": {
                "name": "ipython",
                "version": 3
            },
            "file_extension": ".py",
            "mimetype": "text/x-python",
            "name": "python",
            "nbconvert_exporter": "python",
            "pygments_lexer": "ipython3",
            "version": "3.6.8"
        }
    },
    "nbformat": 4,
    "nbformat_minor": 0
}